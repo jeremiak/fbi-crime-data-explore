{
 "cells": [
  {
   "cell_type": "code",
   "execution_count": 1,
   "metadata": {
    "collapsed": true
   },
   "outputs": [],
   "source": [
    "%matplotlib inline\n",
    "import glob\n",
    "import pandas as pd"
   ]
  },
  {
   "cell_type": "code",
   "execution_count": 5,
   "metadata": {
    "collapsed": true
   },
   "outputs": [],
   "source": [
    "d = pd.read_excel('cius_data/cius2012datatables/Table_77_Full_time_Law_Enforcement_Employess_by_State_2012.xls')"
   ]
  },
  {
   "cell_type": "code",
   "execution_count": 125,
   "metadata": {
    "collapsed": false
   },
   "outputs": [],
   "source": [
    "FILE_MAPPING = {\n",
    "    '2000': 'cius_data/2000/table2-5_vicage00.xls', # https://ucr.fbi.gov/crime-in-the-u.s/2000\n",
    "    '2001': 'cius_data/2001/table2-5_vicage01.xls', # https://ucr.fbi.gov/crime-in-the-u.s/2001\n",
    "    '2002': 'cius_data/2002/table2-5_vicage02.xls', # https://ucr.fbi.gov/crime-in-the-u.s/2002\n",
    "    '2003': 'cius_data/2003/table2-4_age03.xls', # https://ucr.fbi.gov/crime-in-the-u.s/2003/\n",
    "    '2004': 'cius_data/2004/04tbl77a.xls', # https://www2.fbi.gov/ucr/cius_04/law_enforcement_personnel/table_77.html\n",
    "    '2005': 'cius_data/2005/05tbl77.xls',\n",
    "    '2006': 'cius_data/CIUS2006datatables/06tbl77.xls',\n",
    "    '2007': 'cius_data/CIUS2007datatables/07tbl77.xls',\n",
    "    '2008': 'cius_data/CIUS2008datatables/08tbl77.xls',\n",
    "    '2009': 'cius_data/CIUS2009datatables/09tbl77.xls',\n",
    "    '2010': 'cius_data/CIUS2010datatables/10tbl77.xls',\n",
    "    '2011': 'cius_data/CIUS2011datatables/Table_77_Full-time_Law_Enforcement_Employees_by_State_2011.xls',\n",
    "    '2012': 'cius_data/cius2012datatables/Table_77_Full_time_Law_Enforcement_Employess_by_State_2012.xls',\n",
    "    '2013': 'cius_data/cius2013datatables/Table_77_Full_time_Law_Enforcement_Employess_by_State_2013.xls'\n",
    "}\n",
    "\n",
    "YEARS = ['2005', '2006', '2007', '2008', '2009', '2010', '2011', '2012', '2013']\n",
    "\n",
    "def count_by_year(year):\n",
    "    file_path = FILE_MAPPING[year]\n",
    "    raw = pd.read_excel(file_path)\n",
    "    raw = raw[['Table 77', 'Unnamed: 7', 'Unnamed: 6', 'Unnamed: 1', 'Unnamed: 2', 'Unnamed: 3', 'Unnamed: 4', 'Unnamed: 5']]\n",
    "    raw.columns = ['State', 'Population', 'Number of agencies', 'Total law enforcement employees', 'Total male officers', 'Total female officers', 'Total male civilians', 'Total female civilians']\n",
    "    raw['Year'] = year\n",
    "    data = raw.iloc[4:, :]\n",
    "    data.set_index('Year', inplace=True)\n",
    "    return data[data['State'].notnull()]\n",
    "\n",
    "years = pd.concat([count_by_year(y) for y in YEARS])\n",
    "years['State'] = years['State'].apply(lambda x: x.strip())"
   ]
  },
  {
   "cell_type": "code",
   "execution_count": 127,
   "metadata": {
    "collapsed": false
   },
   "outputs": [],
   "source": [
    "dest_path = 'cius_data/processed/table-77-fte-law-enforcement/%s.csv'\n",
    "years.to_csv(dest_path % 'police-employee-counts-by-state-2005-2013')"
   ]
  },
  {
   "cell_type": "code",
   "execution_count": 130,
   "metadata": {
    "collapsed": false
   },
   "outputs": [],
   "source": [
    "ny = years[years['State'] == 'NEW YORK']"
   ]
  },
  {
   "cell_type": "code",
   "execution_count": 131,
   "metadata": {
    "collapsed": false
   },
   "outputs": [
    {
     "data": {
      "text/html": [
       "<div>\n",
       "<table border=\"1\" class=\"dataframe\">\n",
       "  <thead>\n",
       "    <tr style=\"text-align: right;\">\n",
       "      <th></th>\n",
       "      <th>State</th>\n",
       "      <th>Population</th>\n",
       "      <th>Number of agencies</th>\n",
       "      <th>Total law enforcement employees</th>\n",
       "      <th>Total male officers</th>\n",
       "      <th>Total female officers</th>\n",
       "      <th>Total male civilians</th>\n",
       "      <th>Total female civilians</th>\n",
       "    </tr>\n",
       "    <tr>\n",
       "      <th>Year</th>\n",
       "      <th></th>\n",
       "      <th></th>\n",
       "      <th></th>\n",
       "      <th></th>\n",
       "      <th></th>\n",
       "      <th></th>\n",
       "      <th></th>\n",
       "      <th></th>\n",
       "    </tr>\n",
       "  </thead>\n",
       "  <tbody>\n",
       "    <tr>\n",
       "      <th>2005</th>\n",
       "      <td>NEW YORK</td>\n",
       "      <td>17905562</td>\n",
       "      <td>409</td>\n",
       "      <td>83625</td>\n",
       "      <td>52544</td>\n",
       "      <td>8351</td>\n",
       "      <td>7380</td>\n",
       "      <td>15350</td>\n",
       "    </tr>\n",
       "    <tr>\n",
       "      <th>2006</th>\n",
       "      <td>NEW YORK</td>\n",
       "      <td>18719867</td>\n",
       "      <td>402</td>\n",
       "      <td>86053</td>\n",
       "      <td>53597</td>\n",
       "      <td>8579</td>\n",
       "      <td>7820</td>\n",
       "      <td>16057</td>\n",
       "    </tr>\n",
       "    <tr>\n",
       "      <th>2007</th>\n",
       "      <td>NEW YORK</td>\n",
       "      <td>18883746</td>\n",
       "      <td>427</td>\n",
       "      <td>86952</td>\n",
       "      <td>53742</td>\n",
       "      <td>8579</td>\n",
       "      <td>8019</td>\n",
       "      <td>16612</td>\n",
       "    </tr>\n",
       "    <tr>\n",
       "      <th>2008</th>\n",
       "      <td>NEW YORK</td>\n",
       "      <td>18103583</td>\n",
       "      <td>342</td>\n",
       "      <td>80949</td>\n",
       "      <td>52722</td>\n",
       "      <td>8607</td>\n",
       "      <td>5780</td>\n",
       "      <td>13840</td>\n",
       "    </tr>\n",
       "    <tr>\n",
       "      <th>2009</th>\n",
       "      <td>NEW YORK</td>\n",
       "      <td>19120958</td>\n",
       "      <td>436</td>\n",
       "      <td>83941</td>\n",
       "      <td>53588</td>\n",
       "      <td>8572</td>\n",
       "      <td>7711</td>\n",
       "      <td>14070</td>\n",
       "    </tr>\n",
       "  </tbody>\n",
       "</table>\n",
       "</div>"
      ],
      "text/plain": [
       "         State Population Number of agencies Total law enforcement employees  \\\n",
       "Year                                                                           \n",
       "2005  NEW YORK   17905562                409                           83625   \n",
       "2006  NEW YORK   18719867                402                           86053   \n",
       "2007  NEW YORK   18883746                427                           86952   \n",
       "2008  NEW YORK   18103583                342                           80949   \n",
       "2009  NEW YORK   19120958                436                           83941   \n",
       "\n",
       "     Total male officers Total female officers Total male civilians  \\\n",
       "Year                                                                  \n",
       "2005               52544                  8351                 7380   \n",
       "2006               53597                  8579                 7820   \n",
       "2007               53742                  8579                 8019   \n",
       "2008               52722                  8607                 5780   \n",
       "2009               53588                  8572                 7711   \n",
       "\n",
       "     Total female civilians  \n",
       "Year                         \n",
       "2005                  15350  \n",
       "2006                  16057  \n",
       "2007                  16612  \n",
       "2008                  13840  \n",
       "2009                  14070  "
      ]
     },
     "execution_count": 131,
     "metadata": {},
     "output_type": "execute_result"
    }
   ],
   "source": [
    "ny"
   ]
  },
  {
   "cell_type": "code",
   "execution_count": null,
   "metadata": {
    "collapsed": true
   },
   "outputs": [],
   "source": []
  }
 ],
 "metadata": {
  "kernelspec": {
   "display_name": "Python 3",
   "language": "python",
   "name": "python3"
  },
  "language_info": {
   "codemirror_mode": {
    "name": "ipython",
    "version": 3
   },
   "file_extension": ".py",
   "mimetype": "text/x-python",
   "name": "python",
   "nbconvert_exporter": "python",
   "pygments_lexer": "ipython3",
   "version": "3.4.3"
  }
 },
 "nbformat": 4,
 "nbformat_minor": 1
}
