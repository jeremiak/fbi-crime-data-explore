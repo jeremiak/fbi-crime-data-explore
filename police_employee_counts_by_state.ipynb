{
 "cells": [
  {
   "cell_type": "code",
   "execution_count": 190,
   "metadata": {
    "collapsed": true
   },
   "outputs": [],
   "source": [
    "%matplotlib inline\n",
    "import glob\n",
    "import pandas as pd\n",
    "import textwrap"
   ]
  },
  {
   "cell_type": "code",
   "execution_count": 191,
   "metadata": {
    "collapsed": true
   },
   "outputs": [],
   "source": [
    "d = pd.read_excel('cius_data/cius2012datatables/Table_77_Full_time_Law_Enforcement_Employess_by_State_2012.xls')"
   ]
  },
  {
   "cell_type": "code",
   "execution_count": 192,
   "metadata": {
    "collapsed": false
   },
   "outputs": [],
   "source": [
    "FILE_MAPPING = {\n",
    "    '2000': 'cius_data/2000/table2-5_vicage00.xls', # https://ucr.fbi.gov/crime-in-the-u.s/2000\n",
    "    '2001': 'cius_data/2001/table2-5_vicage01.xls', # https://ucr.fbi.gov/crime-in-the-u.s/2001\n",
    "    '2002': 'cius_data/2002/table2-5_vicage02.xls', # https://ucr.fbi.gov/crime-in-the-u.s/2002\n",
    "    '2003': 'cius_data/2003/table2-4_age03.xls', # https://ucr.fbi.gov/crime-in-the-u.s/2003/\n",
    "    '2004': 'cius_data/2004/04tbl77a.xls', # https://www2.fbi.gov/ucr/cius_04/law_enforcement_personnel/table_77.html\n",
    "    '2005': 'cius_data/2005/05tbl77.xls',\n",
    "    '2006': 'cius_data/CIUS2006datatables/06tbl77.xls',\n",
    "    '2007': 'cius_data/CIUS2007datatables/07tbl77.xls',\n",
    "    '2008': 'cius_data/CIUS2008datatables/08tbl77.xls',\n",
    "    '2009': 'cius_data/CIUS2009datatables/09tbl77.xls',\n",
    "    '2010': 'cius_data/CIUS2010datatables/10tbl77.xls',\n",
    "    '2011': 'cius_data/CIUS2011datatables/Table_77_Full-time_Law_Enforcement_Employees_by_State_2011.xls',\n",
    "    '2012': 'cius_data/cius2012datatables/Table_77_Full_time_Law_Enforcement_Employess_by_State_2012.xls',\n",
    "    '2013': 'cius_data/cius2013datatables/Table_77_Full_time_Law_Enforcement_Employess_by_State_2013.xls'\n",
    "}\n",
    "\n",
    "YEARS = ['2005', '2006', '2007', '2008', '2009', '2010', '2011', '2012', '2013']\n",
    "\n",
    "def count_by_year(year):\n",
    "    file_path = FILE_MAPPING[year]\n",
    "    raw = pd.read_excel(file_path)\n",
    "    raw = raw[['Table 77', 'Unnamed: 7', 'Unnamed: 6', 'Unnamed: 1', 'Unnamed: 2', 'Unnamed: 3', 'Unnamed: 4', 'Unnamed: 5']]\n",
    "    raw.columns = ['State', 'Population', 'Number of agencies', 'Total law enforcement employees', 'Total male officers', 'Total female officers', 'Total male civilians', 'Total female civilians']\n",
    "    raw['Year'] = year\n",
    "    data = raw.iloc[4:, :]\n",
    "    data.set_index('Year', inplace=True)\n",
    "    return data[data['State'].notnull()]\n",
    "\n",
    "years = pd.concat([count_by_year(y) for y in YEARS])\n",
    "years['State'] = years['State'].apply(lambda x: x.strip())"
   ]
  },
  {
   "cell_type": "code",
   "execution_count": 193,
   "metadata": {
    "collapsed": false
   },
   "outputs": [],
   "source": [
    "def file_for_year(year):\n",
    "    file = FILE_MAPPING[year].split('/')[-1]\n",
    "    return '%s: %s' % (year, file)\n",
    "\n",
    "files = [file_for_year(y) for y in YEARS]\n",
    "\n",
    "def write_notes(filepath, body, footnotes):\n",
    "    txt = textwrap.dedent(\"\"\"\\\n",
    "# %s from %s to %s\n",
    "\n",
    "Generated from the following tables of the corresponding year's Crime in the US data table download:\n",
    "%s\n",
    "\n",
    "Footnotes/caveats:\n",
    "%s\n",
    "\"\"\" % (body, YEARS[0], YEARS[-1], '\\n'.join(files), '\\n'.join(footnotes)))\n",
    "    with open(filepath, 'w') as f:\n",
    "        f.write(txt)"
   ]
  },
  {
   "cell_type": "code",
   "execution_count": 194,
   "metadata": {
    "collapsed": false
   },
   "outputs": [],
   "source": [
    "dest_path = 'cius_data/processed/table-77-fte-law-enforcement/%s.csv'\n",
    "txt_path = dest_path.replace('.csv', '.txt')\n",
    "years_file = 'police-employee-counts-by-state-%s-%s' % (YEARS[0], YEARS[-1])\n",
    "years.to_csv(dest_path % years_file)\n",
    "\n",
    "national_cols = ['Population', 'Total law enforcement employees', 'Total male officers', 'Total female officers', 'Total male civilians', 'Total female civilians']\n",
    "national = years.reset_index()\n",
    "national = national.groupby('Year')[national_cols].sum()\n",
    "national_file = 'police-employee-counts-nationally-%s-%s' % (YEARS[0], YEARS[-1])\n",
    "national.to_csv(dest_path % national_file)"
   ]
  },
  {
   "cell_type": "code",
   "execution_count": 195,
   "metadata": {
    "collapsed": false
   },
   "outputs": [],
   "source": [
    "years_body = 'Yearly totals for law enforcement employee counts by state'\n",
    "years_footnotes = ['Some states are missing some years. For example, West Virginia did not submit 2008 totals']\n",
    "write_notes(txt_path % years_file, years_body, years_footnotes)\n",
    "\n",
    "national_body = 'Yearly totals for law enforcement employee counts nationally'\n",
    "national_footnotes = ['Population count generated by summing reported state population totals, not from national population estimates']\n",
    "write_notes(txt_path % national_file, national_body, national_footnotes)"
   ]
  },
  {
   "cell_type": "code",
   "execution_count": null,
   "metadata": {
    "collapsed": true
   },
   "outputs": [],
   "source": []
  }
 ],
 "metadata": {
  "kernelspec": {
   "display_name": "Python 3",
   "language": "python",
   "name": "python3"
  },
  "language_info": {
   "codemirror_mode": {
    "name": "ipython",
    "version": 3
   },
   "file_extension": ".py",
   "mimetype": "text/x-python",
   "name": "python",
   "nbconvert_exporter": "python",
   "pygments_lexer": "ipython3",
   "version": "3.4.3"
  }
 },
 "nbformat": 4,
 "nbformat_minor": 1
}
