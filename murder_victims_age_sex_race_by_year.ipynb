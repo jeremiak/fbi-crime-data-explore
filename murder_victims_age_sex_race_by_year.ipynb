{
 "cells": [
  {
   "cell_type": "markdown",
   "metadata": {},
   "source": [
    "# Murder victims: age, sex, race\n",
    "\n",
    "Combines tables from the Supplemental Homicide Report (SHR) from 2003-2013 into a few different CSV files for easier analysis.\n",
    "\n",
    "## Notes\n",
    "\n",
    "* Ethnicity not used as the footnote (1) states that \"ethnicity totals are representative of those agencies that provided ethnicity breakdowns.  Not all agencies provide ethnicity data, therefore the race and ethnicity totals will not equal\" and are not reported for all years"
   ]
  },
  {
   "cell_type": "code",
   "execution_count": 75,
   "metadata": {
    "collapsed": false
   },
   "outputs": [],
   "source": [
    "%matplotlib inline\n",
    "from collections import OrderedDict\n",
    "import textwrap\n",
    "import pandas as pd\n",
    "import seaborn as sns"
   ]
  },
  {
   "cell_type": "code",
   "execution_count": 76,
   "metadata": {
    "collapsed": false
   },
   "outputs": [],
   "source": [
    "TABLE_1_FILE_MAPPING = {\n",
    "    #'2000': 'cius_data/2000/table2-5_vicage00.xls', # https://ucr.fbi.gov/crime-in-the-u.s/2000\n",
    "#     '2001': 'cius_data/2001/table2-5_vicage01.xls', # https://ucr.fbi.gov/crime-in-the-u.s/2001\n",
    "#     '2002': 'cius_data/2002/table2-5_vicage02.xls', # https://ucr.fbi.gov/crime-in-the-u.s/2002\n",
    "    '2003': 'cius_data/2003/Copy of 03tbl2-3.xls', # https://ucr.fbi.gov/crime-in-the-u.s/2003/\n",
    "    '2004': 'cius_data/2004/04tbl2-3a.xls', # https://www2.fbi.gov/ucr/cius_04/offenses_reported/violent_crime/murder.html\n",
    "    '2005': 'cius_data/2005/05shrtab1.xls', #https://www2.fbi.gov/ucr/05cius/offenses/expanded_information/data/documents/05shrtab1.xls\n",
    "    '2006': 'cius_data/CIUS2006datatables/06shrtable1.xls',\n",
    "    '2007': 'cius_data/CIUS2007datatables/07shrtbl1.xls',\n",
    "    '2008': 'cius_data/CIUS2008datatables/08shrtbl01.xls',\n",
    "    '2009': 'cius_data/CIUS2009datatables/09shrtbl01.xls',\n",
    "    '2010': 'cius_data/CIUS2010datatables/10shrtbl01.xls',\n",
    "    '2011': 'cius_data/CIUS2011datatables/SHR Tables 2011/Expanded_Homicide_Data_Table_1_Murder_Victims_by_Race_and_Sex_2011.xls',\n",
    "    '2012': 'cius_data/cius2012datatables/Expanded_Homicide_Data_Table_1_Murder_Victims_by_Race_and_Sex_2012.xls',\n",
    "    '2013': 'cius_data/cius2013datatables/Expanded_Homicide_Data_Table_1_Murder_Victims_by_Race_and_Sex_2013.xls'\n",
    "}\n",
    "\n",
    "TABLE_2_FILE_MAPPING = {\n",
    "    '2000': 'cius_data/2000/table2-5_vicage00.xls', # https://ucr.fbi.gov/crime-in-the-u.s/2000\n",
    "    '2001': 'cius_data/2001/table2-5_vicage01.xls', # https://ucr.fbi.gov/crime-in-the-u.s/2001\n",
    "    '2002': 'cius_data/2002/table2-5_vicage02.xls', # https://ucr.fbi.gov/crime-in-the-u.s/2002\n",
    "    '2003': 'cius_data/2003/table2-4_age03.xls', # https://ucr.fbi.gov/crime-in-the-u.s/2003/\n",
    "    '2004': 'cius_data/2004/04tbl2-4a.xls', # https://www2.fbi.gov/ucr/cius_04/offenses_reported/violent_crime/murder.html\n",
    "    '2005': 'cius_data/2005/05shrtab2.xls',\n",
    "    '2006': 'cius_data/CIUS2006datatables/06shrtable2.xls',\n",
    "    '2007': 'cius_data/CIUS2007datatables/07shrtbl2.xls',\n",
    "    '2008': 'cius_data/CIUS2008datatables/08shrtbl02.xls',\n",
    "    '2009': 'cius_data/CIUS2009datatables/09shrtbl02.xls',\n",
    "    '2010': 'cius_data/CIUS2010datatables/10shrtbl02.xls',\n",
    "    '2011': 'cius_data/CIUS2011datatables/SHR Tables 2011/Expanded_Homicide_Data_Table_2_Murder_Victims_by_Age_Sex_and_Race_2011.xls',\n",
    "    '2012': 'cius_data/cius2012datatables/Expanded_Homicide_Data_Table_2_Murder_Victims_by_Age_Sex_and_Race_2012.xls',\n",
    "    '2013': 'cius_data/cius2013datatables/Expanded_Homicide_Data_Table_2_Murder_Victims_by_Age_Sex_and_Race_2013.xls'\n",
    "}\n",
    "\n",
    "YEARS = ['2004', '2005', '2006', '2007', '2008', '2009', '2010', '2011', '2012', '2013']"
   ]
  },
  {
   "cell_type": "code",
   "execution_count": 77,
   "metadata": {
    "collapsed": false
   },
   "outputs": [],
   "source": [
    "POPULATION_FILE = 'cius_data/cius2013datatables/Table_1_Crime_in_the_United_States_by_Volume_and_Rate_per_100000_Inhabitants_1994-2013.xls'\n",
    "\n",
    "us_population = pd.read_excel(POPULATION_FILE)\n",
    "us_population = us_population.loc[3:22, ['Table 1', ' ']]\n",
    "us_population.columns = ['Year', 'US Population']\n",
    "us_population.loc[10, 'Year'] = 2001\n",
    "us_population.loc[21, 'Year'] = 2012\n",
    "us_population['Year'] = us_population['Year'].apply(str)\n",
    "us_population.set_index('Year', inplace=True)\n",
    "us_population.to_csv('cius_data/processed/us-population-1994-2013.csv')\n",
    "us_population = us_population.loc[YEARS, :]\n",
    "\n",
    "txt = textwrap.dedent(\"\"\"\\\n",
    "# Population of the US\n",
    "\n",
    "Generated from the Table_1_Crime_in_the_United_States_by_Volume_and_Rate_per_100000_Inhabitants_1994-2013.xls file in the 2013 Crime in the US report data table download\n",
    "\"\"\")\n",
    "\n",
    "with open('cius_data/processed/us-population-1994-2013.txt', 'w') as f:\n",
    "    f.write(txt)\n"
   ]
  },
  {
   "cell_type": "code",
   "execution_count": 78,
   "metadata": {
    "collapsed": false
   },
   "outputs": [],
   "source": [
    "def victims_by_age(df, columns):\n",
    "    df = df.loc[4:, columns]\n",
    "    df = df.reset_index()\n",
    "    df = df.loc[:, columns]\n",
    "    df.columns = ['Age bin', 'Count']\n",
    "    d = OrderedDict()\n",
    "    d['Total'] = df.loc[0, 'Count']\n",
    "    d['Under 18'] = df.loc[2, 'Count']\n",
    "    d['Under 22'] = df.loc[3, 'Count']\n",
    "    d['18 and over'] = df.loc[4, 'Count']\n",
    "    d['Infant (under 1)'] = df.loc[5, 'Count']\n",
    "    d['1 to 4'] = df.loc[6, 'Count']\n",
    "    d['5 to 8'] = df.loc[7, 'Count']\n",
    "    d['9 to 12'] = df.loc[8, 'Count']\n",
    "    d['13 to 16'] = df.loc[9, 'Count']\n",
    "    d['17 to 19'] = df.loc[10, 'Count']\n",
    "    d['20 to 24'] = df.loc[11, 'Count']\n",
    "    d['25 to 29'] = df.loc[12, 'Count']\n",
    "    d['30 to 34'] = df.loc[13, 'Count']\n",
    "    d['35 to 39'] = df.loc[14, 'Count']\n",
    "    d['40 to 44'] = df.loc[15, 'Count']\n",
    "    d['45 to 49'] = df.loc[16, 'Count']\n",
    "    d['50 to 54'] = df.loc[17, 'Count']\n",
    "    d['55 to 59'] = df.loc[18, 'Count']\n",
    "    d['60 to 64'] = df.loc[19, 'Count']\n",
    "    d['65 to 69'] = df.loc[20, 'Count']\n",
    "    d['70 to 74'] = df.loc[21, 'Count']\n",
    "    d['75 and over'] = df.loc[22, 'Count']\n",
    "    d['Unknown age'] = df.loc[23, 'Count']\n",
    "    return d\n",
    "\n",
    "def victims_by_race(df, columns, row_index):\n",
    "    df = df.loc[:, columns]\n",
    "    df.columns = ['Race', 'Count']\n",
    "    d = OrderedDict()\n",
    "    d['White'] = df.loc[row_index, 'Count']\n",
    "    d['Black'] = df.loc[row_index+1, 'Count']\n",
    "    d['Other race'] = df.loc[row_index+2, 'Count']\n",
    "    d['Unknown race'] = df.loc[row_index+3, 'Count']\n",
    "    return d\n",
    "\n",
    "def victims_by_race_by_year(year, columns, row_index=5):\n",
    "    file_path = TABLE_1_FILE_MAPPING[year]\n",
    "    raw = pd.read_excel(file_path)\n",
    "    race = victims_by_race(raw, columns, row_index)\n",
    "    return pd.DataFrame([race], index=[year], columns=race.keys())\n",
    "    \n",
    "def victims_by_age_by_year(year, columns):\n",
    "    file_path = TABLE_2_FILE_MAPPING[year]\n",
    "    raw = pd.read_excel(file_path)\n",
    "    age = victims_by_age(raw, columns)\n",
    "    return pd.DataFrame([age], index=[year], columns=age.keys())\n",
    "\n",
    "def male_victims_by_year(year):\n",
    "    if year is '2004':\n",
    "        by_race = victims_by_race_by_year(year, ['Expanded Homicide Data Table 1', 'Unnamed: 2'], row_index=4)\n",
    "    else:\n",
    "        by_race = victims_by_race_by_year(year, ['Expanded Homicide Data Table 1', 'Unnamed: 2'])\n",
    "\n",
    "    by_age = victims_by_age_by_year(year, ['Expanded Homicide Data Table 2', 'Unnamed: 2'])\n",
    "    return by_age.join(by_race)\n",
    "\n",
    "def female_victims_by_year(year):\n",
    "    if year is '2004':\n",
    "        by_race = victims_by_race_by_year(year, ['Expanded Homicide Data Table 1', 'Unnamed: 3'], row_index=4)\n",
    "    else:\n",
    "        by_race = victims_by_race_by_year(year, ['Expanded Homicide Data Table 1', 'Unnamed: 3'])\n",
    "    \n",
    "    by_age = victims_by_age_by_year(year, ['Expanded Homicide Data Table 2', 'Unnamed: 3'])\n",
    "    return by_age.join(by_race)\n",
    "\n",
    "def unknown_sex_victims_by_year(year):\n",
    "    if year is '2004':\n",
    "        by_race = victims_by_race_by_year(year, ['Expanded Homicide Data Table 1', 'Unnamed: 4'], row_index=4)\n",
    "    else:\n",
    "        by_race = victims_by_race_by_year(year, ['Expanded Homicide Data Table 1', 'Unnamed: 4'])\n",
    "    \n",
    "    if year is '2003':\n",
    "        by_age = victims_by_age_by_year(year, ['Expanded Homicide Data Table 2', 'Unnamed: 4'])\n",
    "    else:\n",
    "        by_age =victims_by_age_by_year(year, ['Expanded Homicide Data Table 2', ' '])\n",
    "    \n",
    "    return by_age.join(by_race)\n",
    "\n",
    "def white_victims_by_year(year):\n",
    "    return victims_by_age_by_year(year, ['Expanded Homicide Data Table 2', 'Unnamed: 5'])\n",
    "\n",
    "def black_victims_by_year(year):\n",
    "    return victims_by_age_by_year(year, ['Expanded Homicide Data Table 2', 'Unnamed: 6'])\n",
    "\n",
    "def other_race_victims_by_year(year):\n",
    "    return victims_by_age_by_year(year, ['Expanded Homicide Data Table 2', 'Unnamed: 7'])\n",
    "\n",
    "def unknown_race_victims_by_year(year):\n",
    "    return victims_by_age_by_year(year, ['Expanded Homicide Data Table 2', 'Unnamed: 8'])"
   ]
  },
  {
   "cell_type": "code",
   "execution_count": 79,
   "metadata": {
    "collapsed": false
   },
   "outputs": [],
   "source": [
    "def process(fn):\n",
    "    data = pd.concat(map(fn, YEARS))\n",
    "    return us_population.join(data)\n",
    "\n",
    "male = process(male_victims_by_year)\n",
    "female = process(female_victims_by_year)\n",
    "unknown_sex = process(unknown_sex_victims_by_year)\n",
    "white = process(white_victims_by_year)\n",
    "black = process(black_victims_by_year)\n",
    "other_race = process(other_race_victims_by_year)\n",
    "unknown_race = process(unknown_race_victims_by_year)"
   ]
  },
  {
   "cell_type": "code",
   "execution_count": 80,
   "metadata": {
    "collapsed": true
   },
   "outputs": [],
   "source": [
    "by_sex = pd.concat([us_population, male['Total'], female['Total'], unknown_sex['Total']], axis=1)\n",
    "by_sex.columns = ['US Population', 'Total male', 'Total female', 'Total unknown sex']\n",
    "by_sex['Total'] = by_sex['Total male'] + by_sex['Total female'] + by_sex['Total unknown sex']\n",
    "\n",
    "by_race = pd.concat([us_population, white['Total'], black['Total'], other_race['Total'], unknown_race['Total']], axis=1)\n",
    "by_race.columns = ['US Population', 'Total white', 'Total black', 'Total other race', 'Total unknown race']\n",
    "by_race['Total'] = by_race['Total white'] + by_race['Total black'] + by_race['Total other race'] + by_race['Total unknown race']"
   ]
  },
  {
   "cell_type": "code",
   "execution_count": 81,
   "metadata": {
    "collapsed": false
   },
   "outputs": [],
   "source": [
    "footnotes = [\n",
    "    'Age bins such as under 18, under 22, and 18 and over do not include unknown ages'\n",
    "]\n",
    "files = []\n",
    "for year in YEARS:\n",
    "    table_1_file = TABLE_1_FILE_MAPPING[year].split('/')[-1]\n",
    "    table_2_file = TABLE_2_FILE_MAPPING[year].split('/')[-1]\n",
    "    files.append('%s: %s, %s' % (year, table_1_file, table_2_file))\n",
    "               \n",
    "txt = textwrap.dedent(\"\"\"\\\n",
    "# Age, sex, and race for murder victims from %s to %s\n",
    "\n",
    "Generated from the following tables in the corresponding year's Crime in the US data table download:\n",
    "%s\n",
    "\n",
    "Footnotes/caveats:\n",
    "%s\n",
    "\"\"\" % (YEARS[0], YEARS[-1], '\\n'.join(files), '\\n'.join(footnotes)))\n",
    "\n",
    "with open('cius_data/processed/table-1-and-2-murder-victims-asr/murder-victims-age-sex-race.txt', 'w') as f:\n",
    "    f.write(txt)"
   ]
  },
  {
   "cell_type": "code",
   "execution_count": 82,
   "metadata": {
    "collapsed": false
   },
   "outputs": [],
   "source": [
    "dest_path = 'cius_data/processed/table-1-and-2-murder-victims-asr/%s.csv'\n",
    "male.to_csv(dest_path % 'male-victims-by-age-and-race-2003-2013')\n",
    "female.to_csv(dest_path % 'female-victims-by-age-and-race-2003-2013')\n",
    "unknown_sex.to_csv(dest_path % 'unknown-sex-victims-by-age-and-race-2003-2013')\n",
    "white.to_csv(dest_path % 'white-victims-by-age-2003-2013')\n",
    "black.to_csv(dest_path % 'black-victims-by-age-2003-2013')\n",
    "other_race.to_csv(dest_path % 'other-race-victims-by-age-2003-2013')\n",
    "unknown_race.to_csv(dest_path % 'unknown-race-victims-by-age-2003-2013')\n",
    "by_sex.to_csv(dest_path % 'victims-by-sex-2003-2013')\n",
    "by_race.to_csv(dest_path % 'victims-by-race-2003-2013')"
   ]
  }
 ],
 "metadata": {
  "kernelspec": {
   "display_name": "Python 3",
   "language": "python",
   "name": "python3"
  },
  "language_info": {
   "codemirror_mode": {
    "name": "ipython",
    "version": 3
   },
   "file_extension": ".py",
   "mimetype": "text/x-python",
   "name": "python",
   "nbconvert_exporter": "python",
   "pygments_lexer": "ipython3",
   "version": "3.4.3"
  }
 },
 "nbformat": 4,
 "nbformat_minor": 1
}
