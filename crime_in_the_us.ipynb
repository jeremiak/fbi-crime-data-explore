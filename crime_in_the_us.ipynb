{
 "cells": [
  {
   "cell_type": "markdown",
   "metadata": {},
   "source": [
    "# Crime in the US\n",
    "\n",
    "Cleans data from the 2013 Crime in the US report. Values are expressed as rates with the unit being 100,000 residents"
   ]
  },
  {
   "cell_type": "code",
   "execution_count": 85,
   "metadata": {
    "collapsed": true
   },
   "outputs": [],
   "source": [
    "%matplotlib inline\n",
    "import glob\n",
    "import textwrap\n",
    "\n",
    "import pandas as pd"
   ]
  },
  {
   "cell_type": "code",
   "execution_count": 76,
   "metadata": {
    "collapsed": false
   },
   "outputs": [],
   "source": [
    "cius = pd.read_excel('cius_data/cius2013datatables/Table_1_Crime_in_the_United_States_by_Volume_and_Rate_per_100000_Inhabitants_1994-2013.xls')\n",
    "cius = cius.drop(['Unnamed: 20', 'Unnamed: 21', 'Unnamed: 22', 'Unnamed: 23'], axis=1)\n",
    "cius.columns = ['Year', 'Population', 'Violent crime', 'Violent crime rate', \n",
    "           'Murder and nonnegligent manslaughter', 'Murder and nonnegligent manslaughter rate',\n",
    "           'Rape (legacy definition)', 'Rape (legacy definition) rate', 'Robbery', 'Robbery rate',\n",
    "           'Aggrevated assault', 'Aggrevated assault rate', 'Property crime', 'Property crime rate', 'Burglary',\n",
    "           'Burglary rate', 'Larceny-theft', 'Larceny-theft rate', 'Motor vehicle theft', 'Motor vehicle theft rate'\n",
    "          ]\n",
    "footnotes = cius.loc[23:27, 'Year']"
   ]
  },
  {
   "cell_type": "code",
   "execution_count": 77,
   "metadata": {
    "collapsed": false
   },
   "outputs": [],
   "source": [
    "cius = cius.loc[3:22]\n",
    "cius.loc[10, 'Year'] = '2001'\n",
    "cius.loc[21, 'Year'] = '2012'\n",
    "cius.set_index('Year', inplace=True)\n",
    "\n",
    "dest_path = 'cius_data/processed/crime-in-the-us-1994-2013.%s'\n",
    "csv_path = dest_path % 'csv'\n",
    "txt_path = dest_path % 'txt'\n",
    "cius.to_csv(csv_path)"
   ]
  },
  {
   "cell_type": "code",
   "execution_count": 94,
   "metadata": {
    "collapsed": false
   },
   "outputs": [],
   "source": [
    "txt = textwrap.dedent(\"\"\"\\\n",
    "# Crime in the US\n",
    "\n",
    "Generated from the Table_1_Crime_in_the_United_States_by_Volume_and_Rate_per_100000_Inhabitants_1994-2013.xls file in the 2013 Crime in the US report data table download\n",
    "\n",
    "## Footnotes from data source:\n",
    "\n",
    "%s\"\"\" % ('\\n'.join(footnotes.values)))\n",
    "\n",
    "with open(txt_path, 'w') as f:\n",
    "    f.write(txt)"
   ]
  }
 ],
 "metadata": {
  "kernelspec": {
   "display_name": "Python 3",
   "language": "python",
   "name": "python3"
  },
  "language_info": {
   "codemirror_mode": {
    "name": "ipython",
    "version": 3
   },
   "file_extension": ".py",
   "mimetype": "text/x-python",
   "name": "python",
   "nbconvert_exporter": "python",
   "pygments_lexer": "ipython3",
   "version": "3.4.3"
  }
 },
 "nbformat": 4,
 "nbformat_minor": 1
}
